{
 "cells": [
  {
   "cell_type": "code",
   "execution_count": null,
   "metadata": {},
   "outputs": [],
   "source": [
    "# Import dependencies\n",
    "from unityagents import UnityEnvironment\n",
    "import numpy as np\n",
    "from collections import deque, defaultdict,namedtuple\n",
    "import pandas as pd\n",
    "import matplotlib.pyplot as plt\n",
    "import torch"
   ]
  },
  {
   "cell_type": "code",
   "execution_count": null,
   "metadata": {},
   "outputs": [],
   "source": [
    "# Initialise environment\n",
    "env = UnityEnvironment(file_name=\"Banana.exe\")"
   ]
  },
  {
   "cell_type": "code",
   "execution_count": null,
   "metadata": {},
   "outputs": [],
   "source": [
    "# get the default brain\n",
    "brain_name = env.brain_names[0]\n",
    "brain = env.brains[brain_name]"
   ]
  },
  {
   "cell_type": "code",
   "execution_count": null,
   "metadata": {},
   "outputs": [],
   "source": [
    "from dqn_agent import Agent\n",
    "\n",
    "# Initialise Agent and define hyperparameters\n",
    "agent = Agent(state_size = 37, action_size = brain.vector_action_space_size, seed = 0, buffer_size = 20000, \n",
    "              batch_size = 64, a = 0.2, e = 1e-6, beta = 0.4, double = True, prioritized = False, model_update = 'soft',\n",
    "              learning_rate = 1e-3)"
   ]
  },
  {
   "cell_type": "code",
   "execution_count": null,
   "metadata": {
    "scrolled": true
   },
   "outputs": [],
   "source": [
    "from replay import ExperienceReplay\n",
    "\n",
    "def dqn(n_episodes=20000, eps_start=1.0, eps_end=0.01, eps_decay=0.99):\n",
    "    \n",
    "    scores = []  # Save scores in a list                      \n",
    "    scores_window = deque(maxlen=100)  # Sliding window list with max length of 100 \n",
    "    eps = eps_start                    \n",
    "    for i_episode in range(1, n_episodes+1):\n",
    "        env_info = env.reset(train_mode=True)[brain_name]\n",
    "        state = env_info.vector_observations[0]\n",
    "        score = 0\n",
    "        # Keeps track of time step\n",
    "        t = 0\n",
    "        while True:\n",
    "            # choosing next action\n",
    "            action = agent.select_action(state, eps)\n",
    "            action = action.astype(int)\n",
    "            # running next action through env to get next_state, reward, done\n",
    "            env_info = env.step(action)[brain_name]\n",
    "            next_state = env_info.vector_observations[0]\n",
    "            reward = env_info.rewards[0]                   \n",
    "            done = env_info.local_done[0]\n",
    "            # Model weights are updated every X time steps\n",
    "            agent.step(state, action, reward, next_state, done, t, 5, 0.9)\n",
    "            # S' -> S\n",
    "            state = next_state\n",
    "            score += reward\n",
    "            # Adds 1 to time step\n",
    "            t+=1\n",
    "            # Break while loop if done\n",
    "            if done:\n",
    "                break \n",
    "        scores_window.append(score)       \n",
    "        scores.append(score) \n",
    "        # Decaying epsilon value\n",
    "        eps = max(eps_end, eps_decay*eps) \n",
    "        print('\\rEpisode {}\\tAverage Score: {:.2f}'.format(i_episode, np.mean(scores_window)), end=\"\")\n",
    "        if i_episode % 100 == 0:\n",
    "            print('\\rEpisode {}\\tAverage Score: {:.2f}'.format(i_episode, np.mean(scores_window)))\n",
    "        if np.mean(scores_window)>=13:\n",
    "            print('\\nEnvironment solved in {:d} episodes!\\tAverage Score: {:.2f}'.format(i_episode, np.mean(scores_window)))\n",
    "            torch.save(agent.model_local.state_dict(), 'model_weights.pth')\n",
    "            break\n",
    "    return scores\n",
    "\n",
    "scores = dqn()"
   ]
  },
  {
   "cell_type": "code",
   "execution_count": null,
   "metadata": {},
   "outputs": [],
   "source": []
  }
 ],
 "metadata": {
  "kernelspec": {
   "display_name": "drlnd",
   "language": "python",
   "name": "drlnd"
  },
  "language_info": {
   "codemirror_mode": {
    "name": "ipython",
    "version": 3
   },
   "file_extension": ".py",
   "mimetype": "text/x-python",
   "name": "python",
   "nbconvert_exporter": "python",
   "pygments_lexer": "ipython3",
   "version": "3.6.13"
  }
 },
 "nbformat": 4,
 "nbformat_minor": 4
}
